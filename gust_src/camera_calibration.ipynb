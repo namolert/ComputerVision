{
 "cells": [
  {
   "cell_type": "code",
   "execution_count": 4,
   "id": "80deee02",
   "metadata": {
    "scrolled": true
   },
   "outputs": [],
   "source": [
    "import numpy as np\n",
    "import cv2\n",
    "import glob\n",
    "import os"
   ]
  },
  {
   "cell_type": "code",
   "execution_count": 5,
   "id": "2e867a4b",
   "metadata": {},
   "outputs": [
    {
     "name": "stdout",
     "output_type": "stream",
     "text": [
      "['chess_board_11.jpg', 'chess_board_10.jpg', 'chess_board_12.jpg', 'chess_board_2.jpg', 'chess_board_3.jpg', 'chess_board_1.jpg', 'chess_board_4.jpg', 'chess_board_5.jpg', 'chess_board_7.jpg', 'chess_board_6.jpg', 'chess_board_8.jpg', 'chess_board_9.jpg']\n"
     ]
    }
   ],
   "source": [
    "# termination criteria\n",
    "criteria = (cv2.TERM_CRITERIA_EPS + cv2.TERM_CRITERIA_MAX_ITER, 30, 0.001)\n",
    "# prepare object points, like (0,0,0), (1,0,0), (2,0,0) ....,(6,5,0)\n",
    "objp = np.zeros((8*8,3), np.float32)\n",
    "objp[:,:2] = np.mgrid[0:8,0:8].T.reshape(-1,2)\n",
    "\n",
    "images = [img for img in os.listdir('../asset') if img[:5] == 'chess']\n",
    "print(images)"
   ]
  },
  {
   "cell_type": "code",
   "execution_count": null,
   "id": "9ca332c6",
   "metadata": {},
   "outputs": [],
   "source": [
    "img = cv2.imread(f'../asset/{images[0]}')\n",
    "cv2.imshow('sample image', img)\n",
    "cv2.waitKey()\n",
    "cv2.destroyAllWindows()"
   ]
  },
  {
   "cell_type": "code",
   "execution_count": 7,
   "id": "6adf5ee9",
   "metadata": {},
   "outputs": [],
   "source": [
    "from IPython.display import clear_output\n",
    "import IPython.display"
   ]
  },
  {
   "cell_type": "code",
   "execution_count": null,
   "id": "48ea5634",
   "metadata": {},
   "outputs": [],
   "source": []
  },
  {
   "cell_type": "code",
   "execution_count": 13,
   "id": "aafd5db6",
   "metadata": {},
   "outputs": [
    {
     "name": "stdout",
     "output_type": "stream",
     "text": [
      "Stream stopped\n"
     ]
    }
   ],
   "source": [
    "# Arrays to store object points and image points from all the images.\n",
    "objpoints = [] # 3d point in real world space\n",
    "imgpoints = [] # 2d points in image plane.\n",
    "\n",
    "inputStream = cv2.VideoCapture(0)\n",
    "# Retrieve fps\n",
    "inputFPS = int(15)\n",
    "inputWidth = int(inputStream.get(cv2.CAP_PROP_FRAME_WIDTH))\n",
    "inputHeight = int(inputStream.get(cv2.CAP_PROP_FRAME_HEIGHT))\n",
    "\n",
    "outputStream = cv2.VideoWriter('outputStream.mp4',\n",
    "                               cv2.VideoWriter_fourcc('x', '2', '6', '4'),\n",
    "                               inputFPS, (inputWidth, inputHeight))\n",
    "\n",
    "foundCount = 0\n",
    "try:\n",
    "    while True:\n",
    "        _, videoFrame = inputStream.read()\n",
    "        if videoFrame is not None:\n",
    "            gray = cv2.cvtColor(videoFrame, cv2.COLOR_BGR2GRAY)\n",
    "            # Find the chess board corners\n",
    "            ret, corners = cv2.findChessboardCorners(gray, (8,8), None)\n",
    "            # If found, add object points, image points (after refining them)\n",
    "            if ret == True:\n",
    "                foundCount += 1\n",
    "                print('found:', foundCount)\n",
    "                objpoints.append(objp)\n",
    "                corners2 = cv2.cornerSubPix(gray,corners, (11,11), (-1,-1), criteria)\n",
    "                imgpoints.append(corners2)\n",
    "\n",
    "            # Write frame to outputStream\n",
    "            outputStream.write(videoFrame)\n",
    "            # Encode image as jpg numpy array\n",
    "            _, buffer = cv2.imencode(\".jpg\", videoFrame)\n",
    "            # Draw result\n",
    "            IPython.display.display(IPython.display.Image(data=buffer))\n",
    "            # Discard old output\n",
    "            clear_output(wait=True)\n",
    "        else:\n",
    "            print(\"Cannot Open Webcam, hw problem?\")\n",
    "            break\n",
    "except KeyboardInterrupt:\n",
    "    print(\"Stream stopped\")\n",
    "outputStream.release()\n",
    "inputStream.release()"
   ]
  },
  {
   "cell_type": "code",
   "execution_count": 14,
   "id": "e614c543",
   "metadata": {},
   "outputs": [
    {
     "name": "stdout",
     "output_type": "stream",
     "text": [
      "[]\n"
     ]
    }
   ],
   "source": [
    "print(objpoints)"
   ]
  },
  {
   "cell_type": "code",
   "execution_count": 17,
   "id": "79c27743",
   "metadata": {},
   "outputs": [
    {
     "name": "stdout",
     "output_type": "stream",
     "text": [
      "False None\n",
      "False None\n",
      "False None\n",
      "False None\n",
      "False None\n",
      "False None\n",
      "False None\n",
      "False None\n",
      "False None\n",
      "False None\n",
      "False None\n",
      "False None\n"
     ]
    }
   ],
   "source": [
    "for fname in images:\n",
    "    img = cv2.imread(f'../asset/{fname}')\n",
    "    gray = cv2.cvtColor(img, cv.COLOR_BGR2GRAY)\n",
    "    # Find the chess board corners\n",
    "    ret, corners = cv2.findChessboardCorners(gray, (8,8), None)\n",
    "    print(ret, corners)\n",
    "    # If found, add object points, image points (after refining them)\n",
    "    if ret == True:\n",
    "        objpoints.append(objp)\n",
    "        corners2 = cv.cornerSubPix(gray,corners, (11,11), (-1,-1), criteria)\n",
    "        imgpoints.append(corners2)\n",
    "        # Draw and display the corners\n",
    "        cv2.drawChessboardCorners(img, (7,6), corners2, ret)\n",
    "        cv2.imshow('img', img)\n",
    "        cv2.waitKey(500)\n",
    "cv2.destroyAllWindows()"
   ]
  },
  {
   "cell_type": "code",
   "execution_count": null,
   "id": "b8509fcd",
   "metadata": {},
   "outputs": [],
   "source": []
  }
 ],
 "metadata": {
  "kernelspec": {
   "display_name": "Python 3 (ipykernel)",
   "language": "python",
   "name": "python3"
  },
  "language_info": {
   "codemirror_mode": {
    "name": "ipython",
    "version": 3
   },
   "file_extension": ".py",
   "mimetype": "text/x-python",
   "name": "python",
   "nbconvert_exporter": "python",
   "pygments_lexer": "ipython3",
   "version": "3.11.0"
  }
 },
 "nbformat": 4,
 "nbformat_minor": 5
}
